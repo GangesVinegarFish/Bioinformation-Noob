{
 "cells": [
  {
   "cell_type": "code",
   "execution_count": 1,
   "metadata": {},
   "outputs": [
    {
     "name": "stdout",
     "output_type": "stream",
     "text": [
      "gene extracted successfully!\n"
     ]
    }
   ],
   "source": [
    "#根据各个基因的起始位置、长度和方向等信息，于基因组序列中提取各基因序列\n",
    "#文件1：B9_genome.txt 基因组序列文件\n",
    "#文件2：B-9.txt 各个基因的起始位置、长度和方向等信息（GI信息）\n",
    "\n",
    "import numpy as np\n",
    "\n",
    "def reverse_complement(sequence):  # 返回sequence的反向互补序列\n",
    "    sequence = sequence[::-1]      # 将导入的序列反向\n",
    "    reversed_sequence = \"\"\n",
    "    for i in sequence:     # 互补\n",
    "        if i == \"A\":\n",
    "            reversed_sequence += \"T\"\n",
    "        if i == \"T\":\n",
    "            reversed_sequence += \"A\"\n",
    "        if i == \"C\":\n",
    "            reversed_sequence += \"G\"\n",
    "        if i == \"G\":\n",
    "            reversed_sequence += \"C\"\n",
    "    return reversed_sequence\n",
    "\n",
    "\n",
    "GI = np.loadtxt(\"B-9_genes.txt\")  # 读取GI信息\n",
    "genome = open(\"B9_genome_sequence.txt\").read()  # 读取基因组序列\n",
    "genome = genome.replace(\"\\n\", \"\")    # 去除序列中的回车\n",
    "\n",
    "# 对GI信息进行分类\n",
    "start = GI[:, 0]\n",
    "end = GI[:, 1]\n",
    "direction = GI[:, 2]\n",
    "num = GI[:, 3]\n",
    "length = end - start + 1\n",
    "\n",
    "outcome = []\n",
    "for i in range(len(start)):\n",
    "    outcome.append(\">B-9 NO.{} length={}\\n\".format(int(num[i]),int(length[i])))\n",
    "    gene = \"\"\n",
    "    for j in range(int(start[i])-1, int(end[i])):\n",
    "        gene += genome[j]\n",
    "    if direction[i] == -1:  # 当基因方向为反向时，转换为其互补序列\n",
    "        gene = reverse_complement(gene)\n",
    "\n",
    "    outcome.append(gene)\n",
    "    outcome.append(\"\\n\\n\")\n",
    "print(\"gene extracted successfully!\")\n",
    "f = open('B-9 GI gene extract result.txt', 'w')\n",
    "f.writelines(outcome)\n",
    "f.close()   "
   ]
  }
 ],
 "metadata": {
  "kernelspec": {
   "display_name": "Python 3",
   "language": "python",
   "name": "python3"
  },
  "language_info": {
   "codemirror_mode": {
    "name": "ipython",
    "version": 3
   },
   "file_extension": ".py",
   "mimetype": "text/x-python",
   "name": "python",
   "nbconvert_exporter": "python",
   "pygments_lexer": "ipython3",
   "version": "3.7.1"
  }
 },
 "nbformat": 4,
 "nbformat_minor": 2
}
