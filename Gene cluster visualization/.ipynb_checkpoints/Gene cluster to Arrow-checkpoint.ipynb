{
 "cells": [
  {
   "cell_type": "code",
   "execution_count": 1,
   "metadata": {
    "scrolled": true
   },
   "outputs": [
    {
     "name": "stdout",
     "output_type": "stream",
     "text": [
      "将图片命名为：B-9 GeneCluster Arrow\n"
     ]
    },
    {
     "data": {
      "text/plain": [
       "''"
      ]
     },
     "execution_count": 1,
     "metadata": {},
     "output_type": "execute_result"
    }
   ],
   "source": [
    "import turtle as t\n",
    "import numpy as np\n",
    "\n",
    "def arrowFd(length,color='white',height=40):  # 画正向箭头\n",
    "    if color == 0:  # 判断箭头颜色\n",
    "        color = 'white'\n",
    "    elif color == 1:\n",
    "        color = (204/255,202/255,169/255)\n",
    "    elif color == 2:\n",
    "        color = 'green'\n",
    "    else:\n",
    "        color = 'yellow'\n",
    "        \n",
    "    t.begin_fill()\n",
    "    t.fillcolor(color)\n",
    "    t.left(90)\n",
    "    t.fd(height/2)\n",
    "    t.right(90)\n",
    "    t.fd(length)\n",
    "    t.right(60)\n",
    "    t.fd(height/pow(3,1/2))\n",
    "    t.right(60)\n",
    "    t.fd(height/pow(3,1/2))\n",
    "    t.right(60)\n",
    "    t.fd(length)\n",
    "    t.right(90)\n",
    "    t.fd(height/2)\n",
    "    t.right(90)\n",
    "    t.end_fill()\n",
    "    t.penup()\n",
    "    t.fd(length+height/2/pow(3,1/2))\n",
    "    t.pendown()\n",
    "    return\n",
    "\n",
    "def arrowBk(length,color='white',height=40):  # 画反向箭头\n",
    "    if color == 0:  \n",
    "        color = 'white'\n",
    "    elif color == 1:\n",
    "        color = (204/255,202/255,169/255)\n",
    "    elif color == 2:\n",
    "        color = 'green'\n",
    "    else:\n",
    "        color = 'yellow'\n",
    "        \n",
    "    t.begin_fill()\n",
    "    t.fillcolor(color)\n",
    "    t.left(60)\n",
    "    t.fd(height/pow(3,1/2))\n",
    "    t.right(60)\n",
    "    t.fd(length)\n",
    "    t.right(90)   \n",
    "    t.fd(height)\n",
    "    t.right(90)\n",
    "    t.fd(length)\n",
    "    t.right(60)\n",
    "    t.fd(height/pow(3,1/2))\n",
    "    t.right(120)\n",
    "    t.end_fill()\n",
    "    t.penup()\n",
    "    t.fd(length+height/2/pow(3,1/2))\n",
    "    t.pendown()\n",
    "    return\n",
    "\n",
    "\n",
    "'''读取文件，将每列放入不同的列表\n",
    "文件第一列为每个基因起始点（从0开始），第二列为结束点，第三列为基因方向（1：正向；-1：反向）\n",
    "第四列为基因标注颜色，0：白色,1：灰色，2：绿色,3：黄色'''\n",
    "\n",
    "file = np.loadtxt(\"B-9 GeneCluster.txt\")\n",
    "start = file[:,0]\n",
    "end = file[:,1]\n",
    "direction = file[:,2]\n",
    "color = file[:,3]\n",
    "\n",
    "t.setup(1200,500,100,100)\n",
    "lines = end[len(end)-1]%60000\n",
    "t.speed(1000)\n",
    "t.hideturtle()\n",
    "\n",
    "t.penup()\n",
    "t.goto(-500,200)  # 起始位置\n",
    "t.pendown()\n",
    "H = 40   # 箭头高度\n",
    "count = 0\n",
    "line = 1\n",
    "for i in range(len(start)):\n",
    "    length = end[i] - start[i]+1    # 箭头长度\n",
    "    if direction[i] == 1:\n",
    "        arrowFd(length/60, color[i], H)  # 每60个碱基对对应一个像素\n",
    "    else:\n",
    "        arrowBk(length/60, color[i], H)\n",
    "    if i < len(start)-1:\n",
    "        gapLen=start[i+1] - end[i]   # 箭头之间的举例\n",
    "        t.fd(gapLen/60)\n",
    "    count += length+H/2/pow(3,1/2)*60\n",
    "    if count > 50000:  # 超过25000个碱基对则换到下一行\n",
    "        t.penup()\n",
    "        t.goto(-500,200-100*line)\n",
    "        t.pendown()\n",
    "        count = 0\n",
    "        line += 1\n",
    "name = input(\"将图片命名为：\")\n",
    "ts = t.getscreen()\n",
    "ts.getcanvas().postscript(file=\"{}.PS\".format(name))"
   ]
  }
 ],
 "metadata": {
  "kernelspec": {
   "display_name": "Python 3",
   "language": "python",
   "name": "python3"
  },
  "language_info": {
   "codemirror_mode": {
    "name": "ipython",
    "version": 3
   },
   "file_extension": ".py",
   "mimetype": "text/x-python",
   "name": "python",
   "nbconvert_exporter": "python",
   "pygments_lexer": "ipython3",
   "version": "3.7.1"
  }
 },
 "nbformat": 4,
 "nbformat_minor": 2
}
